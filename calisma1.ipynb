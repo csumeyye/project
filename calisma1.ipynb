{
 "cells": [
  {
   "cell_type": "code",
   "execution_count": 9,
   "metadata": {},
   "outputs": [],
   "source": [
    "class Config:\n",
    "  DATASET_PATH =r\"C:\\Users\\csume\\AnomalyDetection\\mv_eski\\Train\"\n",
    "  SINGLE_TEST_PATH = r\"C:\\Users\\csume\\AnomalyDetection\\mv_eski\\Test\\test004\"\n",
    "  BATCH_SIZE = 4\n",
    "  EPOCHS = 1\n",
    "  MODEL_PATH = r\"C:\\Users\\csume\\AnomalyDetection\\calisma1.hdf5\""
   ]
  },
  {
   "cell_type": "code",
   "execution_count": 30,
   "metadata": {},
   "outputs": [],
   "source": [
    "import keras\n",
    "from keras.layers import Conv2DTranspose, ConvLSTM2D, BatchNormalization, TimeDistributed, Conv2D\n",
    "from keras.models import Sequential, load_model\n",
    "from keras_layer_normalization import LayerNormalization\n",
    "\n",
    "def get_model(reload_model=True):\n",
    "    \"\"\"\n",
    "    Parameters\n",
    "    ----------\n",
    "    reload_model : bool\n",
    "        Load saved model or retrain it\n",
    "    \"\"\"\n",
    "    \"\"\"if not reload_model:\n",
    "        return load_model(Config.MODEL_PATH,custom_objects={'LayerNormalization': LayerNormalization})\"\"\"\n",
    "    training_set = get_training_set()\n",
    "    training_set = np.array(training_set) #shape'i (73, 256, 256) formatına getirilir.\n",
    "    training_set = training_set.reshape(1, training_set.shape[0], training_set.shape[1], training_set.shape[2], 1)\n",
    "    \n",
    "    seq = Sequential()\n",
    "    seq.add(TimeDistributed(Conv2D(64, (5, 5), padding=\"same\"), input_shape=(None,256, 256, 1)))\n",
    "    seq.add(LayerNormalization())\n",
    "    \n",
    "    seq.add(ConvLSTM2D(32, (3, 3), padding=\"same\", return_sequences=True))\n",
    "    seq.add(LayerNormalization())\n",
    "    seq.add(ConvLSTM2D(16, (3, 3), padding=\"same\", return_sequences=True))\n",
    "    seq.add(LayerNormalization())\n",
    "    seq.add(ConvLSTM2D(32, (3, 3), padding=\"same\", return_sequences=True))\n",
    "    seq.add(LayerNormalization())\n",
    "    \n",
    "    seq.add(LayerNormalization())\n",
    "    seq.add(TimeDistributed(Conv2D(1, (5, 5), activation=\"sigmoid\", padding=\"same\")))\n",
    "    print(seq.summary())\n",
    "    \n",
    "    seq.compile(loss='mse', optimizer=keras.optimizers.Adam(lr=1e-4, decay=1e-5, epsilon=1e-6)) \n",
    "    seq.fit(training_set, training_set,\n",
    "            epochs=Config.EPOCHS, shuffle=False)\n",
    "    \n",
    "    \n",
    "    \n",
    "    #seq.save(Config.MODEL_PATH)\n",
    "    return seq"
   ]
  },
  {
   "cell_type": "code",
   "execution_count": 31,
   "metadata": {},
   "outputs": [],
   "source": [
    "import os\n",
    "from os import listdir\n",
    "from os.path import isfile, join, isdir\n",
    "import numpy as np\n",
    "from PIL import Image\n",
    "\n",
    "def get_training_set():\n",
    "    \"\"\"\n",
    "    Returns\n",
    "    -------\n",
    "    list\n",
    "        A list of training sequences of shape (NUMBER_OF_SEQUENCES,SINGLE_SEQUENCE_SIZE,FRAME_WIDTH,FRAME_HEIGHT,1)\n",
    "    \"\"\"\n",
    "    clips = []\n",
    "    # loop over the training folders (Train000,Train001,..)\n",
    "    for f in sorted(listdir(Config.DATASET_PATH)):\n",
    "        directory_path = join(Config.DATASET_PATH, f)\n",
    "        if isdir(directory_path):\n",
    "            all_frames = []\n",
    "            # loop over all the images in the folder (0.tif,1.tif,..,199.tif)\n",
    "            for c in sorted(listdir(directory_path)):\n",
    "                img_path = join(directory_path, c)\n",
    "                if str(img_path)[-3:] == \"png\":\n",
    "                    img = Image.open(img_path).resize((256, 256))\n",
    "                    img = np.array(img, dtype=np.float32) / 256.0\n",
    "                    #all_frames.append(img)\n",
    "                    clips.append(img)\n",
    "            \n",
    "    \n",
    "    return clips"
   ]
  },
  {
   "cell_type": "code",
   "execution_count": 32,
   "metadata": {},
   "outputs": [],
   "source": [
    "def get_single_test():\n",
    "    sz = 17\n",
    "    test = np.zeros(shape=(sz, 256, 256, 1))\n",
    "    cnt = 0\n",
    "    for f in sorted(listdir(Config.SINGLE_TEST_PATH)):\n",
    "        if str(join(Config.SINGLE_TEST_PATH, f))[-3:] == \"png\":\n",
    "            img = Image.open(join(Config.SINGLE_TEST_PATH, f)).resize((256, 256))\n",
    "            img = np.array(img, dtype=np.float32) / 256.0\n",
    "            test[cnt, :, :, 0] = img\n",
    "            cnt = cnt + 1\n",
    "    #return test\n",
    "    return test"
   ]
  },
  {
   "cell_type": "code",
   "execution_count": 33,
   "metadata": {},
   "outputs": [],
   "source": [
    "import matplotlib.pyplot as plt\n",
    "\n",
    "def evaluate():\n",
    "    \n",
    "    model = get_model(True)\n",
    "    print(\"got model\")\n",
    "    test = get_single_test()\n",
    "    print(\"got test\")\n",
    "    sz = test.shape[0] - 1\n",
    "    sequences = np.zeros((sz,1, 256, 256, 1))\n",
    "    # apply the sliding window technique to get the sequences\n",
    "    for i in range(0, sz):\n",
    "        clip = np.zeros((1,256, 256, 1))\n",
    "        for j in range(0, 1):\n",
    "            clip[j] = test[i + j, :, :, :]\n",
    "        sequences[i] = clip\n",
    "\n",
    "    # get the reconstruction cost of all the sequences\n",
    "    reconstructed_sequences = model.predict(sequences,batch_size=4)\n",
    "    sequences_reconstruction_cost = np.array([np.linalg.norm(np.subtract(sequences[i],reconstructed_sequences[i])) for i in range(0,sz)])\n",
    "    sa = (sequences_reconstruction_cost - np.min(sequences_reconstruction_cost)) / np.max(sequences_reconstruction_cost)\n",
    "    sr = 1.0 - sa\n",
    "\n",
    "    # plot the regularity scores\n",
    "    plt.plot(sr)\n",
    "    plt.ylabel('regularity score Sr(t)')\n",
    "    plt.xlabel('frame t')\n",
    "    plt.show()"
   ]
  },
  {
   "cell_type": "code",
   "execution_count": 34,
   "metadata": {},
   "outputs": [
    {
     "name": "stdout",
     "output_type": "stream",
     "text": [
      "Model: \"sequential_7\"\n",
      "_________________________________________________________________\n",
      "Layer (type)                 Output Shape              Param #   \n",
      "=================================================================\n",
      "time_distributed_11 (TimeDis (None, None, 256, 256, 64 1664      \n",
      "_________________________________________________________________\n",
      "layer_normalization_21 (Laye (None, None, 256, 256, 64 128       \n",
      "_________________________________________________________________\n",
      "conv_lst_m2d_13 (ConvLSTM2D) (None, None, 256, 256, 32 110720    \n",
      "_________________________________________________________________\n",
      "layer_normalization_22 (Laye (None, None, 256, 256, 32 64        \n",
      "_________________________________________________________________\n",
      "conv_lst_m2d_14 (ConvLSTM2D) (None, None, 256, 256, 16 27712     \n",
      "_________________________________________________________________\n",
      "layer_normalization_23 (Laye (None, None, 256, 256, 16 32        \n",
      "_________________________________________________________________\n",
      "conv_lst_m2d_15 (ConvLSTM2D) (None, None, 256, 256, 32 55424     \n",
      "_________________________________________________________________\n",
      "layer_normalization_24 (Laye (None, None, 256, 256, 32 64        \n",
      "_________________________________________________________________\n",
      "layer_normalization_25 (Laye (None, None, 256, 256, 32 64        \n",
      "_________________________________________________________________\n",
      "time_distributed_12 (TimeDis (None, None, 256, 256, 1) 801       \n",
      "=================================================================\n",
      "Total params: 196,673\n",
      "Trainable params: 196,673\n",
      "Non-trainable params: 0\n",
      "_________________________________________________________________\n",
      "None\n",
      "Epoch 1/1\n",
      "1/1 [==============================] - 251s 251s/step - loss: 0.2126\n",
      "got model\n",
      "got test\n"
     ]
    },
    {
     "data": {
      "image/png": "[encoded data removed]",
      "text/plain": [
       "<Figure size 432x288 with 1 Axes>"
      ]
     },
     "metadata": {
      "needs_background": "light"
     },
     "output_type": "display_data"
    }
   ],
   "source": [
    "evaluate()"
   ]
  },
  {
   "cell_type": "code",
   "execution_count": null,
   "metadata": {},
   "outputs": [],
   "source": []
  },
  {
   "cell_type": "code",
   "execution_count": null,
   "metadata": {},
   "outputs": [],
   "source": []
  }
 ],
 "metadata": {
  "kernelspec": {
   "display_name": "Python [conda env:.conda-myenv] *",
   "language": "python",
   "name": "conda-env-.conda-myenv-py"
  },
  "language_info": {
   "codemirror_mode": {
    "name": "ipython",
    "version": 3
   },
   "file_extension": ".py",
   "mimetype": "text/x-python",
   "name": "python",
   "nbconvert_exporter": "python",
   "pygments_lexer": "ipython3",
   "version": "3.6.10"
  }
 },
 "nbformat": 4,
 "nbformat_minor": 4
}
